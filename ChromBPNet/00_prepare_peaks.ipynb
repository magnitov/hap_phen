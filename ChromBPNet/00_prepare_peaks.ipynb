{
 "cells": [
  {
   "cell_type": "code",
   "execution_count": 2,
   "id": "3ac2f87c-afbd-4604-861e-885156d4f8bb",
   "metadata": {},
   "outputs": [],
   "source": [
    "import pandas as pd\n",
    "import numpy as np\n",
    "import matplotlib.pyplot as plt\n",
    "from gtfparse import read_gtf\n",
    "from scipy.stats import fisher_exact\n",
    "from matplotlib_venn import venn2, venn2_circles, venn3, venn3_circles"
   ]
  },
  {
   "cell_type": "markdown",
   "id": "9dcc9e3e-a71a-40e2-9042-ad69babf328d",
   "metadata": {},
   "source": [
    "## Peaks for training chromBPNet\n",
    "Peaks called for merged replicates BAM file with MACS2 p-value set to 0.01, filtered to exclude lenient allele-specific peaks with FDR<0.1"
   ]
  },
  {
   "cell_type": "code",
   "execution_count": 40,
   "id": "4e832c1a-f258-4f92-b727-7505197f07ee",
   "metadata": {},
   "outputs": [],
   "source": [
    "canonical_chroms = ['chr1', 'chr10', 'chr11', 'chr12', 'chr13', 'chr14', 'chr15', 'chr16', 'chr17','chr18', 'chr19',\n",
    "                    'chr2', 'chr20', 'chr21', 'chr22', 'chr3', 'chr4', 'chr5', 'chr6', 'chr7', 'chr8', 'chr9', 'chrX']\n",
    "\n",
    "for sample in ['NA12878', 'NA18983', 'HG01241', 'HG02601', 'HG03464']:\n",
    "    narrow_peaks = pd.read_csv(f'/DATA/users/m.magnitov/hap_phen/ATACseq/peaks/{sample}_merged_peaks.narrowPeak',\n",
    "                               sep = '\\t', header = None)\n",
    "    narrow_peaks = narrow_peaks[narrow_peaks[0].isin(canonical_chroms)]\n",
    "\n",
    "    deseq_peaks = pd.read_csv(f'/DATA/users/m.magnitov/hap_phen/ATACseq/peaks/{sample}_peaks.canonical.replicated.no_blacklist.bed',\n",
    "                              sep = '\\t', header = None, names = ['seqname', 'start', 'end', 'peak_id'])\n",
    "\n",
    "    deseq_res = pd.read_csv(f'/DATA/users/m.magnitov/hap_phen/ATACseq/asocr/asocr_{sample}.csv', sep = '\\s+', header = 0)\n",
    "    deseq_res['peak_id'] = deseq_res.index\n",
    "    deseq_res = deseq_res.merge(deseq_peaks, on = 'peak_id')\n",
    "\n",
    "    close_to_asocr = deseq_res[deseq_res['padj'] < 0.1]\n",
    "    close_to_asocr_ids = close_to_asocr.merge(narrow_peaks, left_on = ['seqname', 'start', 'end'], right_on = [0, 1, 2])[3].values\n",
    "\n",
    "    narrow_peaks[~narrow_peaks[3].isin(close_to_asocr_ids)].to_csv(f'/DATA/users/m.magnitov/hap_phen/chromBPNet/train_peaks/{sample}.pval_0.01.no_as_FDR_0.1.narrowPeak', sep = '\\t', header = 0, index = 0)"
   ]
  },
  {
   "cell_type": "markdown",
   "id": "2d5be403-bc29-486e-902d-f6399ee5a968",
   "metadata": {},
   "source": [
    "## Peaks for predicting with chromBPNet\n",
    "Replicated peaks (called for merged, then overlapped with rep1/rep2/rep3) with narrowPeaks parameters from calling on merged with MACS2 p-value set to 0.01, lifted over to hap1 and hap2 coordinates"
   ]
  },
  {
   "cell_type": "code",
   "execution_count": 39,
   "id": "25ca8f49-335d-4f77-86dc-b0c49c71606d",
   "metadata": {},
   "outputs": [],
   "source": [
    "for sample in ['NA12878', 'NA18983', 'HG01241', 'HG02601', 'HG03464']:\n",
    "    narrow_peaks = pd.read_csv(f'/DATA/users/m.magnitov/hap_phen/ATACseq/peaks/{sample}_merged_peaks.narrowPeak',\n",
    "                               sep = '\\t', header = None)\n",
    "    \n",
    "    deseq_peaks = pd.read_csv(f'/DATA/users/m.magnitov/hap_phen/ATACseq/peaks/{sample}_peaks.canonical.replicated.no_blacklist.bed',\n",
    "                              sep = '\\t', header = None)\n",
    "    \n",
    "    hap1_peaks = pd.read_csv(f'/DATA/users/m.magnitov/hap_phen/ATACseq/peaks/{sample}_peaks_hap1.bed', sep = '\\t', header = None)\n",
    "    hap2_peaks = pd.read_csv(f'/DATA/users/m.magnitov/hap_phen/ATACseq/peaks/{sample}_peaks_hap2.bed', sep = '\\t', header = None)\n",
    "    \n",
    "    merged_peaks_trace = deseq_peaks.merge(hap1_peaks, on = [0, 3]).merge(hap2_peaks, on = [0, 3])\n",
    "    merged_peaks_trace.columns = np.arange(len(merged_peaks_trace.columns))\n",
    "    merged_peaks_trace = merged_peaks_trace.merge(narrow_peaks, on = [0, 1, 2])\n",
    "    merged_peaks_trace.columns = ['chrom', 'start_hg38', 'end_hg38', 'peak_id_replicated',\n",
    "                                  'start_hap1', 'end_hap1', 'start_hap2', 'end_hap2', 'peak_id', 4, 5, 6, 7, 8, 9]\n",
    "\n",
    "    merged_peaks_trace[['chrom', 'start_hap1', 'end_hap1', 'peak_id', 4, 5, 6, 7, 8, 9]].to_csv(f'/DATA/users/m.magnitov/hap_phen/chromBPNet/predict_peaks/{sample}_hap1.narrowPeak', sep = '\\t', header = 0, index = 0)\n",
    "    merged_peaks_trace[['chrom', 'start_hap2', 'end_hap2', 'peak_id', 4, 5, 6, 7, 8, 9]].to_csv(f'/DATA/users/m.magnitov/hap_phen/chromBPNet/predict_peaks/{sample}_hap2.narrowPeak', sep = '\\t', header = 0, index = 0)\n",
    "    merged_peaks_trace[['chrom', 'start_hg38', 'end_hg38', 'peak_id', 4, 5, 6, 7, 8, 9]].to_csv(f'/DATA/users/m.magnitov/hap_phen/chromBPNet/predict_peaks/{sample}_hg38.narrowPeak', sep = '\\t', header = 0, index = 0)"
   ]
  },
  {
   "cell_type": "code",
   "execution_count": null,
   "id": "dd01a13b-c923-4cbd-8a0e-5d0f6eed531f",
   "metadata": {},
   "outputs": [],
   "source": []
  }
 ],
 "metadata": {
  "kernelspec": {
   "display_name": "Python 3 (ipykernel)",
   "language": "python",
   "name": "python3"
  },
  "language_info": {
   "codemirror_mode": {
    "name": "ipython",
    "version": 3
   },
   "file_extension": ".py",
   "mimetype": "text/x-python",
   "name": "python",
   "nbconvert_exporter": "python",
   "pygments_lexer": "ipython3",
   "version": "3.9.12"
  }
 },
 "nbformat": 4,
 "nbformat_minor": 5
}
