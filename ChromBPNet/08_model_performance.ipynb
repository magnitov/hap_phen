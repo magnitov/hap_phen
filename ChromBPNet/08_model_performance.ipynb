{
 "cells": [
  {
   "cell_type": "code",
   "execution_count": 17,
   "id": "5234ce2d-54d9-46c1-b18e-b6bfb1354e23",
   "metadata": {},
   "outputs": [],
   "source": [
    "import json\n",
    "import numpy as np\n",
    "import pandas as pd\n",
    "import matplotlib.pyplot as plt\n",
    "import seaborn as sns"
   ]
  },
  {
   "cell_type": "code",
   "execution_count": 51,
   "id": "6f91472e-d966-4ce4-98e2-51c648b4434c",
   "metadata": {},
   "outputs": [],
   "source": [
    "pearson, jsd = [], []\n",
    "for fold in ['fold0', 'fold1', 'fold2', 'fold3', 'fold4']:\n",
    "    for sample in ['NA12878', 'NA18983', 'HG01241', 'HG02601', 'HG03464']:\n",
    "        with open(f'/DATA/users/m.magnitov/hap_phen/chromBPNet/model/{fold}/model/{sample}/evaluation/{sample}_chrombpnet_metrics.json', 'r') as file:\n",
    "            model_data = json.load(file)\n",
    "            #print(model_data)\n",
    "            pearson.append(model_data['counts_metrics']['peaks']['pearsonr'])\n",
    "            jsd.append(model_data['profile_metrics']['peaks']['median_jsd'])"
   ]
  },
  {
   "cell_type": "code",
   "execution_count": 52,
   "id": "b9a0fe79-18bd-4916-bb2e-0e52c659898a",
   "metadata": {},
   "outputs": [
    {
     "data": {
      "text/html": [
       "<div>\n",
       "<style scoped>\n",
       "    .dataframe tbody tr th:only-of-type {\n",
       "        vertical-align: middle;\n",
       "    }\n",
       "\n",
       "    .dataframe tbody tr th {\n",
       "        vertical-align: top;\n",
       "    }\n",
       "\n",
       "    .dataframe thead th {\n",
       "        text-align: right;\n",
       "    }\n",
       "</style>\n",
       "<table border=\"1\" class=\"dataframe\">\n",
       "  <thead>\n",
       "    <tr style=\"text-align: right;\">\n",
       "      <th></th>\n",
       "      <th>NA12878</th>\n",
       "      <th>NA18983</th>\n",
       "      <th>HG01241</th>\n",
       "      <th>HG02601</th>\n",
       "      <th>HG03464</th>\n",
       "    </tr>\n",
       "  </thead>\n",
       "  <tbody>\n",
       "    <tr>\n",
       "      <th>fold0</th>\n",
       "      <td>0.747675</td>\n",
       "      <td>0.726488</td>\n",
       "      <td>0.773901</td>\n",
       "      <td>0.753688</td>\n",
       "      <td>0.726932</td>\n",
       "    </tr>\n",
       "    <tr>\n",
       "      <th>fold1</th>\n",
       "      <td>0.738364</td>\n",
       "      <td>0.707637</td>\n",
       "      <td>0.770216</td>\n",
       "      <td>0.745645</td>\n",
       "      <td>0.716539</td>\n",
       "    </tr>\n",
       "    <tr>\n",
       "      <th>fold2</th>\n",
       "      <td>0.746484</td>\n",
       "      <td>0.731960</td>\n",
       "      <td>0.785245</td>\n",
       "      <td>0.759776</td>\n",
       "      <td>0.738645</td>\n",
       "    </tr>\n",
       "    <tr>\n",
       "      <th>fold3</th>\n",
       "      <td>0.732233</td>\n",
       "      <td>0.704550</td>\n",
       "      <td>0.758429</td>\n",
       "      <td>0.745827</td>\n",
       "      <td>0.717614</td>\n",
       "    </tr>\n",
       "    <tr>\n",
       "      <th>fold4</th>\n",
       "      <td>0.750239</td>\n",
       "      <td>0.720981</td>\n",
       "      <td>0.778921</td>\n",
       "      <td>0.765899</td>\n",
       "      <td>0.737259</td>\n",
       "    </tr>\n",
       "  </tbody>\n",
       "</table>\n",
       "</div>"
      ],
      "text/plain": [
       "        NA12878   NA18983   HG01241   HG02601   HG03464\n",
       "fold0  0.747675  0.726488  0.773901  0.753688  0.726932\n",
       "fold1  0.738364  0.707637  0.770216  0.745645  0.716539\n",
       "fold2  0.746484  0.731960  0.785245  0.759776  0.738645\n",
       "fold3  0.732233  0.704550  0.758429  0.745827  0.717614\n",
       "fold4  0.750239  0.720981  0.778921  0.765899  0.737259"
      ]
     },
     "execution_count": 52,
     "metadata": {},
     "output_type": "execute_result"
    }
   ],
   "source": [
    "pearson = pd.DataFrame(np.reshape(pearson, (5, 5)))\n",
    "pearson.columns = ['NA12878', 'NA18983', 'HG01241', 'HG02601', 'HG03464']\n",
    "pearson.index = ['fold0', 'fold1', 'fold2', 'fold3', 'fold4']\n",
    "pearson"
   ]
  },
  {
   "cell_type": "code",
   "execution_count": 53,
   "id": "9f99f04b-4d7e-4b28-91f8-dba2fbbe6eff",
   "metadata": {},
   "outputs": [
    {
     "data": {
      "text/html": [
       "<div>\n",
       "<style scoped>\n",
       "    .dataframe tbody tr th:only-of-type {\n",
       "        vertical-align: middle;\n",
       "    }\n",
       "\n",
       "    .dataframe tbody tr th {\n",
       "        vertical-align: top;\n",
       "    }\n",
       "\n",
       "    .dataframe thead th {\n",
       "        text-align: right;\n",
       "    }\n",
       "</style>\n",
       "<table border=\"1\" class=\"dataframe\">\n",
       "  <thead>\n",
       "    <tr style=\"text-align: right;\">\n",
       "      <th></th>\n",
       "      <th>NA12878</th>\n",
       "      <th>NA18983</th>\n",
       "      <th>HG01241</th>\n",
       "      <th>HG02601</th>\n",
       "      <th>HG03464</th>\n",
       "    </tr>\n",
       "  </thead>\n",
       "  <tbody>\n",
       "    <tr>\n",
       "      <th>fold0</th>\n",
       "      <td>0.655497</td>\n",
       "      <td>0.607770</td>\n",
       "      <td>0.669172</td>\n",
       "      <td>0.671328</td>\n",
       "      <td>0.601060</td>\n",
       "    </tr>\n",
       "    <tr>\n",
       "      <th>fold1</th>\n",
       "      <td>0.659468</td>\n",
       "      <td>0.614304</td>\n",
       "      <td>0.673621</td>\n",
       "      <td>0.676783</td>\n",
       "      <td>0.608005</td>\n",
       "    </tr>\n",
       "    <tr>\n",
       "      <th>fold2</th>\n",
       "      <td>0.655709</td>\n",
       "      <td>0.614037</td>\n",
       "      <td>0.672007</td>\n",
       "      <td>0.674419</td>\n",
       "      <td>0.606543</td>\n",
       "    </tr>\n",
       "    <tr>\n",
       "      <th>fold3</th>\n",
       "      <td>0.651639</td>\n",
       "      <td>0.606272</td>\n",
       "      <td>0.669388</td>\n",
       "      <td>0.674481</td>\n",
       "      <td>0.599113</td>\n",
       "    </tr>\n",
       "    <tr>\n",
       "      <th>fold4</th>\n",
       "      <td>0.647848</td>\n",
       "      <td>0.601212</td>\n",
       "      <td>0.659213</td>\n",
       "      <td>0.674311</td>\n",
       "      <td>0.600869</td>\n",
       "    </tr>\n",
       "  </tbody>\n",
       "</table>\n",
       "</div>"
      ],
      "text/plain": [
       "        NA12878   NA18983   HG01241   HG02601   HG03464\n",
       "fold0  0.655497  0.607770  0.669172  0.671328  0.601060\n",
       "fold1  0.659468  0.614304  0.673621  0.676783  0.608005\n",
       "fold2  0.655709  0.614037  0.672007  0.674419  0.606543\n",
       "fold3  0.651639  0.606272  0.669388  0.674481  0.599113\n",
       "fold4  0.647848  0.601212  0.659213  0.674311  0.600869"
      ]
     },
     "execution_count": 53,
     "metadata": {},
     "output_type": "execute_result"
    }
   ],
   "source": [
    "jsd = pd.DataFrame(np.reshape(jsd, (5, 5)))\n",
    "jsd.columns = ['NA12878', 'NA18983', 'HG01241', 'HG02601', 'HG03464']\n",
    "jsd.index = ['fold0', 'fold1', 'fold2', 'fold3', 'fold4']\n",
    "jsd"
   ]
  },
  {
   "cell_type": "code",
   "execution_count": 100,
   "id": "518b2355-b0ec-4b5a-99dc-2210b4404785",
   "metadata": {},
   "outputs": [
    {
     "data": {
      "image/png": "[encoded data removed]",
      "text/plain": [
       "<Figure size 864x360 with 2 Axes>"
      ]
     },
     "metadata": {
      "needs_background": "light"
     },
     "output_type": "display_data"
    }
   ],
   "source": [
    "plt.figure(figsize = (12, 5))\n",
    "plt.suptitle('chromBPNet model metrics', fontsize = 16)\n",
    "\n",
    "plt.subplot(121)\n",
    "sns.stripplot(data = [pearson['NA12878'], pearson['NA18983'], pearson['HG01241'], pearson['HG02601'], pearson['HG03464']],\n",
    "              s = 10, edgecolor = 'k', linewidth = 1, palette = ['C0', 'C2', 'C3', 'C4', 'C1'])\n",
    "plt.xticks(np.arange(5), ['NA12878', 'NA18983', 'HG01241', 'HG02601', 'HG03464'], fontsize = 14)\n",
    "plt.ylabel('Pearson correlation', fontsize = 14)\n",
    "plt.yticks(np.arange(0.5, 1, 0.05))\n",
    "plt.ylim((0.55, 0.85))\n",
    "plt.grid()\n",
    "\n",
    "plt.subplot(122)\n",
    "sns.stripplot(data = [jsd['NA12878'], jsd['NA18983'], jsd['HG01241'], jsd['HG02601'], jsd['HG03464']],\n",
    "              s = 10, edgecolor = 'k', linewidth = 1, palette = ['C0', 'C2', 'C3', 'C4', 'C1'])\n",
    "plt.xticks(np.arange(5), ['NA12878', 'NA18983', 'HG01241', 'HG02601', 'HG03464'], fontsize = 14)\n",
    "plt.ylabel('Jensen-Shannon Distance', fontsize = 14)\n",
    "plt.yticks(np.arange(0.5, 1, 0.05))\n",
    "plt.ylim((0.55, 0.85))\n",
    "plt.grid()\n",
    "\n",
    "plt.tight_layout()\n",
    "plt.savefig('/DATA/users/m.magnitov/hap_phen/figures/chrombpnet_metrics.pdf', bbox_inches = 'tight')\n",
    "plt.show()"
   ]
  },
  {
   "cell_type": "code",
   "execution_count": null,
   "id": "2ce058fc-c232-45ae-bfa7-fc5f4c150d53",
   "metadata": {},
   "outputs": [],
   "source": []
  }
 ],
 "metadata": {
  "kernelspec": {
   "display_name": "Python 3 (ipykernel)",
   "language": "python",
   "name": "python3"
  },
  "language_info": {
   "codemirror_mode": {
    "name": "ipython",
    "version": 3
   },
   "file_extension": ".py",
   "mimetype": "text/x-python",
   "name": "python",
   "nbconvert_exporter": "python",
   "pygments_lexer": "ipython3",
   "version": "3.9.12"
  }
 },
 "nbformat": 4,
 "nbformat_minor": 5
}
