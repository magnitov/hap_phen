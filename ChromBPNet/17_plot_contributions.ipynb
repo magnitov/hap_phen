{
 "cells": [
  {
   "cell_type": "code",
   "execution_count": 1,
   "id": "5e0616fe-989f-43a0-85c6-8032d7c44f67",
   "metadata": {},
   "outputs": [],
   "source": [
    "import os\n",
    "import numpy as np\n",
    "import pandas as pd\n",
    "import matplotlib.pyplot as plt\n",
    "%matplotlib inline \n",
    "from matplotlib import gridspec\n",
    "from Bio import SeqIO\n",
    "import h5py as h5\n",
    "from scipy.stats import pearsonr, spearmanr\n",
    "import vizsequence\n",
    "import logomaker as lm\n",
    "import bioframe\n",
    "from multiprocessing import Pool\n",
    "import warnings\n",
    "warnings.filterwarnings('ignore')"
   ]
  },
  {
   "cell_type": "markdown",
   "id": "8da59aa4-a5ad-4002-86ea-b3f75eb364cd",
   "metadata": {},
   "source": [
    "### Selected variants:\n",
    "- 5:138601629:A:G (chr10:13,982,000-13,993,200) - AP1 motif, allele-specific BATF binding\n",
    "- 5:110716624:G:A (chr5:110,711,700-110,721,600) - ETS_1 motif, allele-specific SPI1 binding\n",
    "\n",
    "- 13:75300385:GC:G, 13:75300388:T:C, 13:75300392:T:C - NFKB motif, TBC1D4 gene (NA12878, HG02601 and HG03464), RELA/RELB ChIP-seq\n",
    "- 2:113235808:C:G - ETS motif, PAX8-AS1 gene (NA12878 and HG01241), ELF1 ChIP-seq\n",
    "- 7:116498515:C:T - RUNX motif, CAV2 gene (NA12878 and HG03464), RUNX3 ChIP-seq\n",
    "- 17:35244527:G:A - IRF motif, SLFN5 gene (NA18983, HG01241 and HG02601), IRF4 ChIP-seq\n",
    "- 17:8901000:T:G - OCT motif, PIK3R5 gene (HG03464)"
   ]
  },
  {
   "cell_type": "markdown",
   "id": "c4d10384-495f-47da-8efe-4c726bf6784b",
   "metadata": {},
   "source": [
    "## Functions"
   ]
  },
  {
   "cell_type": "code",
   "execution_count": 2,
   "id": "8363521b-6b58-4d20-900a-297820134edf",
   "metadata": {},
   "outputs": [],
   "source": [
    "def read_variants(sample):\n",
    "    variants = pd.read_csv(f'/DATA/users/m.magnitov/hap_phen/personal_genomes/{sample}/{sample}.phased.het.bed', \n",
    "                           sep = '\\t', header = None)\n",
    "    variants[11] = [int(x.split('|')[0]) for x in variants[10].values]\n",
    "    variants[12] = [int(x.split('|')[1].split(':')[0]) for x in variants[10].values]\n",
    "    variants = variants[[0, 2, 2, 3, 5, 6, 11, 12]]\n",
    "    variants.columns = ['chrom', 'start', 'end', 'variant_id', 'ref', 'alt', 'allele_ref', 'allele_alt']\n",
    "    return(variants)\n",
    "\n",
    "def read_variants_on_haplotype(sample, haplotype):\n",
    "    with open(f'/DATA/users/m.magnitov/hap_phen/personal_genomes/{sample}/genome/{sample}_{haplotype}.vcf', 'r') as v_hap:\n",
    "        variants_hap = v_hap.readlines()\n",
    "    variants_hap = [x.rstrip('\\n').split('\\t') for x in variants_hap if x[0] != '#']\n",
    "    variants_hap = pd.DataFrame(variants_hap)\n",
    "    variants_hap = variants_hap[[0, 1, 1, 2]]\n",
    "    variants_hap.columns = ['chrom', 'start_' + haplotype, 'end_' + haplotype, 'variant_id']\n",
    "    return(variants_hap)\n",
    "\n",
    "def read_asocr_peaks(sample):\n",
    "    asocr_peaks = pd.read_csv(f'/DATA/users/m.magnitov/hap_phen/ATACseq/asocr/{sample}_allele_specific.bed', sep = '\\t', header = None)\n",
    "    asocr_peaks.columns = ['chrom', 'start', 'end', 'peak_id', 'baseMean', 'log2FoldChange', 'FDR']\n",
    "    return(asocr_peaks[['chrom', 'start', 'end', 'peak_id', 'log2FoldChange', 'FDR']])\n",
    "\n",
    "def read_balanced_peaks(sample):\n",
    "    balanced_peaks = pd.read_csv(f'/DATA/users/m.magnitov/hap_phen/ATACseq/asocr/{sample}_balanced.bed', sep = '\\t', header = None)\n",
    "    balanced_peaks.columns = ['chrom', 'start', 'end', 'peak_id', 'baseMean', 'log2FoldChange', 'FDR']\n",
    "    return(balanced_peaks[['chrom', 'start', 'end', 'peak_id', 'log2FoldChange', 'FDR']])\n",
    "\n",
    "def get_variants_for_peaks(phased_variants, peaks):\n",
    "    peaks = peaks[peaks['chrom'] != 'chrX']\n",
    "    phased_variants_overlap_peaks = bioframe.overlap(phased_variants, peaks, suffixes = ('', '_peak'))\n",
    "    phased_variants_overlap_peaks = phased_variants_overlap_peaks.dropna()\n",
    "\n",
    "    putative_non_overlaps = peaks[~peaks['peak_id'].isin(phased_variants_overlap_peaks['peak_id_peak'])]['peak_id'].values\n",
    "    if len(putative_non_overlaps) != 0:\n",
    "        peaks_non_overlaps = peaks[peaks['peak_id'].isin(putative_non_overlaps)]\n",
    "\n",
    "        phased_variants_overlap_non_overlaps = bioframe.closest(peaks_non_overlaps, phased_variants, suffixes = ('_peak', ''))\n",
    "        sort_order = list(phased_variants_overlap_non_overlaps.columns[5:]) + list(phased_variants_overlap_non_overlaps.columns[:5])\n",
    "        phased_variants_overlap_non_overlaps = phased_variants_overlap_non_overlaps[sort_order]\n",
    "        phased_variants_overlap_non_overlaps = phased_variants_overlap_non_overlaps.drop('distance', axis = 1)\n",
    "\n",
    "    phased_variants_overlap_peaks = pd.concat([phased_variants_overlap_peaks, phased_variants_overlap_non_overlaps], ignore_index = True)\n",
    "    phased_variants_overlap_peaks = phased_variants_overlap_peaks.sort_values(['chrom', 'start'])\n",
    "    phased_variants_overlap_peaks.index = np.arange(len(phased_variants_overlap_peaks))\n",
    "    return(phased_variants_overlap_peaks)"
   ]
  },
  {
   "cell_type": "code",
   "execution_count": 3,
   "id": "acbd8cad-b90c-4042-9945-631b939d01cf",
   "metadata": {},
   "outputs": [],
   "source": [
    "def get_variant_coordinates_in_haplotypes(phased_variants_data, variant_id):\n",
    "    chrom_name = phased_variants_data[phased_variants_data['variant_id'] == variant_id]['chrom'].values[0]\n",
    "    pos_hap1 = int(phased_variants_data[phased_variants_data['variant_id'] == variant_id][f'start_hap1'].values[0])\n",
    "    pos_hap2 = int(phased_variants_data[phased_variants_data['variant_id'] == variant_id][f'start_hap2'].values[0])\n",
    "    return(chrom_name, pos_hap1, pos_hap2)\n",
    "\n",
    "def extract_sequence_for_region(genome, chrom, pos, flank):\n",
    "    return(str(genome[chrom][pos-flank-1:pos+flank]))\n",
    "\n",
    "def extract_contribution_scores_for_region(contrib_scores, chrom, pos, flank):\n",
    "    contrib_scores_per_region = contrib_scores[(contrib_scores['chrom'] == chrom) & (contrib_scores['start'] >= pos-flank-1) & (contrib_scores['end'] <= pos+flank)]\n",
    "    if len(contrib_scores_per_region) != 2*flank+1:\n",
    "        contrib_scores_per_region_extended = pd.DataFrame({'chrom': [chrom]*(2*flank+1),\n",
    "                                                           'start': np.arange(pos-flank-1, pos+flank),\n",
    "                                                           'end': np.arange(pos-flank, pos+flank+1)})\n",
    "        contrib_scores_per_region_extended = contrib_scores_per_region_extended.merge(contrib_scores_per_region, \n",
    "                                                                                      on = ['chrom', 'start', 'end'], how = 'left').fillna(0)\n",
    "        contrib_scores_per_region_extended['relative_pos'] = contrib_scores_per_region_extended['end']-pos\n",
    "        return(contrib_scores_per_region_extended)\n",
    "    else:\n",
    "        contrib_scores_per_region['relative_pos'] = contrib_scores_per_region['end']-pos\n",
    "        return(contrib_scores_per_region)\n",
    "\n",
    "def construct_cs_matrix_to_plot(seq_contrib, score_contrib):\n",
    "    contrib_score_data = pd.DataFrame([list(seq_contrib), score_contrib]).transpose().fillna(0)\n",
    "    contrib_score_data.columns = ['character', 'value']\n",
    "    contrib_score_data = lm.saliency_to_matrix(seq = contrib_score_data['character'], values = contrib_score_data['value'])\n",
    "    return(contrib_score_data)\n",
    "\n",
    "def contribution_data_to_matrix(variant_contrib_data):\n",
    "    contrib_score_matrix_hap1, contrib_score_matrix_hap2 = [], []\n",
    "    for i in range(len(variant_contrib_data)):\n",
    "        if variant_contrib_data['seq_hap1'].values[i] == 'A':\n",
    "            contrib_score_matrix_hap1.append([variant_contrib_data['score_hap1'].values[i], 0, 0, 0])\n",
    "        elif variant_contrib_data['seq_hap1'].values[i] == 'C':\n",
    "            contrib_score_matrix_hap1.append([0, variant_contrib_data['score_hap1'].values[i], 0, 0])\n",
    "        elif variant_contrib_data['seq_hap1'].values[i] == 'G':\n",
    "            contrib_score_matrix_hap1.append([0, 0, variant_contrib_data['score_hap1'].values[i], 0])\n",
    "        if variant_contrib_data['seq_hap1'].values[i] == 'T':\n",
    "            contrib_score_matrix_hap1.append([0, 0, 0, variant_contrib_data['score_hap1'].values[i]])\n",
    "\n",
    "    for i in range(len(variant_contrib_data)):\n",
    "        if variant_contrib_data['seq_hap2'].values[i] == 'A':\n",
    "            contrib_score_matrix_hap2.append([variant_contrib_data['score_hap2'].values[i], 0, 0, 0])\n",
    "        elif variant_contrib_data['seq_hap2'].values[i] == 'C':\n",
    "            contrib_score_matrix_hap2.append([0, variant_contrib_data['score_hap2'].values[i], 0, 0])\n",
    "        elif variant_contrib_data['seq_hap2'].values[i] == 'G':\n",
    "            contrib_score_matrix_hap2.append([0, 0, variant_contrib_data['score_hap2'].values[i], 0])\n",
    "        if variant_contrib_data['seq_hap2'].values[i] == 'T':\n",
    "            contrib_score_matrix_hap2.append([0, 0, 0, variant_contrib_data['score_hap2'].values[i]])\n",
    "\n",
    "    contrib_score_matrix_hap1 = pd.DataFrame(contrib_score_matrix_hap1)\n",
    "    contrib_score_matrix_hap2 = pd.DataFrame(contrib_score_matrix_hap2)\n",
    "    contrib_score_matrix_hap1.columns = ['A', 'C', 'G', 'T']\n",
    "    contrib_score_matrix_hap2.columns = ['A', 'C', 'G', 'T']\n",
    "    contrib_score_matrix_hap1['relative_pos'] = variant_contrib_data['relative_pos']\n",
    "    contrib_score_matrix_hap2['relative_pos'] = variant_contrib_data['relative_pos']\n",
    "\n",
    "    return(contrib_score_matrix_hap1, contrib_score_matrix_hap2)\n",
    "\n",
    "def read_pwm(pwm_name):\n",
    "    pwm = pd.read_csv(f'/DATA/users/m.magnitov/hap_phen/chromBPNet/variants_annotation/tf_modisco_pwms/{pwm_name}.pfm', \n",
    "                      header = None, skiprows = 1, sep = '\\s+')\n",
    "    pwm.index = [x.rstrip(':') for x in pwm[0].values]\n",
    "    pwm = pwm.drop([0], axis = 1).T\n",
    "    return(pwm)\n",
    "\n",
    "def relative_info_content(pwm):\n",
    "    p = pwm/np.sum(pwm, axis = 1)[:,np.newaxis]\n",
    "    ic = 2+np.sum(p*np.nan_to_num(np.log2(p)), axis = 1)\n",
    "    ric = p*ic[:,np.newaxis]\n",
    "    return(ric)"
   ]
  },
  {
   "cell_type": "markdown",
   "id": "59ad59df-a25d-4ae6-947f-d4da03868003",
   "metadata": {},
   "source": [
    "# Plot contributions for variants"
   ]
  },
  {
   "cell_type": "code",
   "execution_count": 25,
   "id": "9e27431b-c01b-435f-8390-35386b9da5b0",
   "metadata": {},
   "outputs": [],
   "source": [
    "sample = 'NA12878'"
   ]
  },
  {
   "cell_type": "code",
   "execution_count": 26,
   "id": "a0e5d881-9fc6-4d25-82c9-088399107554",
   "metadata": {},
   "outputs": [],
   "source": [
    "# Read phased variants coordinates in hg38 and exclude chrX from analyses\n",
    "phased_variants = read_variants(sample)\n",
    "phased_variants = phased_variants[phased_variants['chrom'] != 'chrX']\n",
    "\n",
    "# Read phased variants coordinates lifted to haplotype 1 and haplotype 2 coordinates\n",
    "variants_hap1 = read_variants_on_haplotype(sample, 'hap1')\n",
    "variants_hap2 = read_variants_on_haplotype(sample, 'hap2')"
   ]
  },
  {
   "cell_type": "code",
   "execution_count": 27,
   "id": "8ccbefe4-07a7-4cbe-9b9a-c52a67bb7771",
   "metadata": {},
   "outputs": [
    {
     "data": {
      "text/html": [
       "<div>\n",
       "<style scoped>\n",
       "    .dataframe tbody tr th:only-of-type {\n",
       "        vertical-align: middle;\n",
       "    }\n",
       "\n",
       "    .dataframe tbody tr th {\n",
       "        vertical-align: top;\n",
       "    }\n",
       "\n",
       "    .dataframe thead th {\n",
       "        text-align: right;\n",
       "    }\n",
       "</style>\n",
       "<table border=\"1\" class=\"dataframe\">\n",
       "  <thead>\n",
       "    <tr style=\"text-align: right;\">\n",
       "      <th></th>\n",
       "      <th>chrom</th>\n",
       "      <th>start</th>\n",
       "      <th>end</th>\n",
       "      <th>variant_id</th>\n",
       "      <th>ref</th>\n",
       "      <th>alt</th>\n",
       "      <th>allele_ref</th>\n",
       "      <th>allele_alt</th>\n",
       "      <th>chrom_peak</th>\n",
       "      <th>start_peak</th>\n",
       "      <th>end_peak</th>\n",
       "      <th>peak_id_peak</th>\n",
       "      <th>log2FoldChange_peak</th>\n",
       "      <th>FDR_peak</th>\n",
       "      <th>start_hap1</th>\n",
       "      <th>end_hap1</th>\n",
       "      <th>start_hap2</th>\n",
       "      <th>end_hap2</th>\n",
       "    </tr>\n",
       "  </thead>\n",
       "  <tbody>\n",
       "    <tr>\n",
       "      <th>0</th>\n",
       "      <td>chr1</td>\n",
       "      <td>828014</td>\n",
       "      <td>828014</td>\n",
       "      <td>1:828014:G:A</td>\n",
       "      <td>G</td>\n",
       "      <td>A</td>\n",
       "      <td>0</td>\n",
       "      <td>1</td>\n",
       "      <td>chr1</td>\n",
       "      <td>826832</td>\n",
       "      <td>828040</td>\n",
       "      <td>NA12878_peak_2</td>\n",
       "      <td>6.379673</td>\n",
       "      <td>0.000012</td>\n",
       "      <td>828014</td>\n",
       "      <td>828014</td>\n",
       "      <td>828017</td>\n",
       "      <td>828017</td>\n",
       "    </tr>\n",
       "    <tr>\n",
       "      <th>1</th>\n",
       "      <td>chr1</td>\n",
       "      <td>1038800</td>\n",
       "      <td>1038800</td>\n",
       "      <td>1:1038800:G:T</td>\n",
       "      <td>G</td>\n",
       "      <td>T</td>\n",
       "      <td>0</td>\n",
       "      <td>1</td>\n",
       "      <td>chr1</td>\n",
       "      <td>1038446</td>\n",
       "      <td>1039331</td>\n",
       "      <td>NA12878_peak_20</td>\n",
       "      <td>1.476120</td>\n",
       "      <td>0.000369</td>\n",
       "      <td>1038795</td>\n",
       "      <td>1038795</td>\n",
       "      <td>1038755</td>\n",
       "      <td>1038755</td>\n",
       "    </tr>\n",
       "    <tr>\n",
       "      <th>2</th>\n",
       "      <td>chr1</td>\n",
       "      <td>1038819</td>\n",
       "      <td>1038819</td>\n",
       "      <td>1:1038819:C:T</td>\n",
       "      <td>C</td>\n",
       "      <td>T</td>\n",
       "      <td>0</td>\n",
       "      <td>1</td>\n",
       "      <td>chr1</td>\n",
       "      <td>1038446</td>\n",
       "      <td>1039331</td>\n",
       "      <td>NA12878_peak_20</td>\n",
       "      <td>1.476120</td>\n",
       "      <td>0.000369</td>\n",
       "      <td>1038814</td>\n",
       "      <td>1038814</td>\n",
       "      <td>1038774</td>\n",
       "      <td>1038774</td>\n",
       "    </tr>\n",
       "    <tr>\n",
       "      <th>3</th>\n",
       "      <td>chr1</td>\n",
       "      <td>1038845</td>\n",
       "      <td>1038845</td>\n",
       "      <td>1:1038845:A:G</td>\n",
       "      <td>A</td>\n",
       "      <td>G</td>\n",
       "      <td>0</td>\n",
       "      <td>1</td>\n",
       "      <td>chr1</td>\n",
       "      <td>1038446</td>\n",
       "      <td>1039331</td>\n",
       "      <td>NA12878_peak_20</td>\n",
       "      <td>1.476120</td>\n",
       "      <td>0.000369</td>\n",
       "      <td>1038840</td>\n",
       "      <td>1038840</td>\n",
       "      <td>1038800</td>\n",
       "      <td>1038800</td>\n",
       "    </tr>\n",
       "    <tr>\n",
       "      <th>4</th>\n",
       "      <td>chr1</td>\n",
       "      <td>1038916</td>\n",
       "      <td>1038916</td>\n",
       "      <td>1:1038916:A:G</td>\n",
       "      <td>A</td>\n",
       "      <td>G</td>\n",
       "      <td>0</td>\n",
       "      <td>1</td>\n",
       "      <td>chr1</td>\n",
       "      <td>1038446</td>\n",
       "      <td>1039331</td>\n",
       "      <td>NA12878_peak_20</td>\n",
       "      <td>1.476120</td>\n",
       "      <td>0.000369</td>\n",
       "      <td>1038911</td>\n",
       "      <td>1038911</td>\n",
       "      <td>1038871</td>\n",
       "      <td>1038871</td>\n",
       "    </tr>\n",
       "  </tbody>\n",
       "</table>\n",
       "</div>"
      ],
      "text/plain": [
       "  chrom    start      end     variant_id ref alt allele_ref allele_alt  \\\n",
       "0  chr1   828014   828014   1:828014:G:A   G   A          0          1   \n",
       "1  chr1  1038800  1038800  1:1038800:G:T   G   T          0          1   \n",
       "2  chr1  1038819  1038819  1:1038819:C:T   C   T          0          1   \n",
       "3  chr1  1038845  1038845  1:1038845:A:G   A   G          0          1   \n",
       "4  chr1  1038916  1038916  1:1038916:A:G   A   G          0          1   \n",
       "\n",
       "  chrom_peak  start_peak  end_peak     peak_id_peak  log2FoldChange_peak  \\\n",
       "0       chr1      826832    828040   NA12878_peak_2             6.379673   \n",
       "1       chr1     1038446   1039331  NA12878_peak_20             1.476120   \n",
       "2       chr1     1038446   1039331  NA12878_peak_20             1.476120   \n",
       "3       chr1     1038446   1039331  NA12878_peak_20             1.476120   \n",
       "4       chr1     1038446   1039331  NA12878_peak_20             1.476120   \n",
       "\n",
       "   FDR_peak start_hap1 end_hap1 start_hap2 end_hap2  \n",
       "0  0.000012     828014   828014     828017   828017  \n",
       "1  0.000369    1038795  1038795    1038755  1038755  \n",
       "2  0.000369    1038814  1038814    1038774  1038774  \n",
       "3  0.000369    1038840  1038840    1038800  1038800  \n",
       "4  0.000369    1038911  1038911    1038871  1038871  "
      ]
     },
     "execution_count": 27,
     "metadata": {},
     "output_type": "execute_result"
    }
   ],
   "source": [
    "# Read allele-specific peaks\n",
    "asocr_peaks = read_asocr_peaks(sample)\n",
    "\n",
    "# Overlap phased variants with allele-specific peaks\n",
    "phased_variants_overlap_asocr = get_variants_for_peaks(phased_variants, asocr_peaks)\n",
    "phased_variants_overlap_asocr = phased_variants_overlap_asocr.merge(variants_hap1, on = ['chrom', 'variant_id'])\n",
    "phased_variants_overlap_asocr = phased_variants_overlap_asocr.merge(variants_hap2, on = ['chrom', 'variant_id'])\n",
    "phased_variants_overlap_asocr.head()"
   ]
  },
  {
   "cell_type": "code",
   "execution_count": 28,
   "id": "5b8c9ea7-ecdf-4cb7-a8c1-5e1c4bec5644",
   "metadata": {},
   "outputs": [
    {
     "data": {
      "text/html": [
       "<div>\n",
       "<style scoped>\n",
       "    .dataframe tbody tr th:only-of-type {\n",
       "        vertical-align: middle;\n",
       "    }\n",
       "\n",
       "    .dataframe tbody tr th {\n",
       "        vertical-align: top;\n",
       "    }\n",
       "\n",
       "    .dataframe thead th {\n",
       "        text-align: right;\n",
       "    }\n",
       "</style>\n",
       "<table border=\"1\" class=\"dataframe\">\n",
       "  <thead>\n",
       "    <tr style=\"text-align: right;\">\n",
       "      <th></th>\n",
       "      <th>chrom</th>\n",
       "      <th>start</th>\n",
       "      <th>end</th>\n",
       "      <th>variant_id</th>\n",
       "      <th>ref</th>\n",
       "      <th>alt</th>\n",
       "      <th>allele_ref</th>\n",
       "      <th>allele_alt</th>\n",
       "      <th>chrom_peak</th>\n",
       "      <th>start_peak</th>\n",
       "      <th>end_peak</th>\n",
       "      <th>peak_id_peak</th>\n",
       "      <th>log2FoldChange_peak</th>\n",
       "      <th>FDR_peak</th>\n",
       "      <th>start_hap1</th>\n",
       "      <th>end_hap1</th>\n",
       "      <th>start_hap2</th>\n",
       "      <th>end_hap2</th>\n",
       "    </tr>\n",
       "  </thead>\n",
       "  <tbody>\n",
       "    <tr>\n",
       "      <th>0</th>\n",
       "      <td>chr1</td>\n",
       "      <td>984039</td>\n",
       "      <td>984039</td>\n",
       "      <td>1:984039:T:C</td>\n",
       "      <td>T</td>\n",
       "      <td>C</td>\n",
       "      <td>0</td>\n",
       "      <td>1</td>\n",
       "      <td>chr1</td>\n",
       "      <td>983992</td>\n",
       "      <td>984545</td>\n",
       "      <td>NA12878_peak_14</td>\n",
       "      <td>0.544771</td>\n",
       "      <td>0.801716</td>\n",
       "      <td>984025</td>\n",
       "      <td>984025</td>\n",
       "      <td>984016</td>\n",
       "      <td>984016</td>\n",
       "    </tr>\n",
       "    <tr>\n",
       "      <th>1</th>\n",
       "      <td>chr1</td>\n",
       "      <td>984109</td>\n",
       "      <td>984109</td>\n",
       "      <td>1:984109:C:T</td>\n",
       "      <td>C</td>\n",
       "      <td>T</td>\n",
       "      <td>0</td>\n",
       "      <td>1</td>\n",
       "      <td>chr1</td>\n",
       "      <td>983992</td>\n",
       "      <td>984545</td>\n",
       "      <td>NA12878_peak_14</td>\n",
       "      <td>0.544771</td>\n",
       "      <td>0.801716</td>\n",
       "      <td>984095</td>\n",
       "      <td>984095</td>\n",
       "      <td>984086</td>\n",
       "      <td>984086</td>\n",
       "    </tr>\n",
       "    <tr>\n",
       "      <th>2</th>\n",
       "      <td>chr1</td>\n",
       "      <td>984145</td>\n",
       "      <td>984145</td>\n",
       "      <td>1:984145:TAGTC:T</td>\n",
       "      <td>TAGTC</td>\n",
       "      <td>T</td>\n",
       "      <td>0</td>\n",
       "      <td>1</td>\n",
       "      <td>chr1</td>\n",
       "      <td>983992</td>\n",
       "      <td>984545</td>\n",
       "      <td>NA12878_peak_14</td>\n",
       "      <td>0.544771</td>\n",
       "      <td>0.801716</td>\n",
       "      <td>984131</td>\n",
       "      <td>984131</td>\n",
       "      <td>984122</td>\n",
       "      <td>984122</td>\n",
       "    </tr>\n",
       "    <tr>\n",
       "      <th>3</th>\n",
       "      <td>chr1</td>\n",
       "      <td>984475</td>\n",
       "      <td>984475</td>\n",
       "      <td>1:984475:G:A</td>\n",
       "      <td>G</td>\n",
       "      <td>A</td>\n",
       "      <td>1</td>\n",
       "      <td>0</td>\n",
       "      <td>chr1</td>\n",
       "      <td>983992</td>\n",
       "      <td>984545</td>\n",
       "      <td>NA12878_peak_14</td>\n",
       "      <td>0.544771</td>\n",
       "      <td>0.801716</td>\n",
       "      <td>984461</td>\n",
       "      <td>984461</td>\n",
       "      <td>984448</td>\n",
       "      <td>984448</td>\n",
       "    </tr>\n",
       "    <tr>\n",
       "      <th>4</th>\n",
       "      <td>chr1</td>\n",
       "      <td>999842</td>\n",
       "      <td>999842</td>\n",
       "      <td>1:999842:C:A</td>\n",
       "      <td>C</td>\n",
       "      <td>A</td>\n",
       "      <td>0</td>\n",
       "      <td>1</td>\n",
       "      <td>chr1</td>\n",
       "      <td>999622</td>\n",
       "      <td>1001164</td>\n",
       "      <td>NA12878_peak_15</td>\n",
       "      <td>0.773273</td>\n",
       "      <td>0.496534</td>\n",
       "      <td>999841</td>\n",
       "      <td>999841</td>\n",
       "      <td>999812</td>\n",
       "      <td>999812</td>\n",
       "    </tr>\n",
       "  </tbody>\n",
       "</table>\n",
       "</div>"
      ],
      "text/plain": [
       "  chrom   start     end        variant_id    ref alt allele_ref allele_alt  \\\n",
       "0  chr1  984039  984039      1:984039:T:C      T   C          0          1   \n",
       "1  chr1  984109  984109      1:984109:C:T      C   T          0          1   \n",
       "2  chr1  984145  984145  1:984145:TAGTC:T  TAGTC   T          0          1   \n",
       "3  chr1  984475  984475      1:984475:G:A      G   A          1          0   \n",
       "4  chr1  999842  999842      1:999842:C:A      C   A          0          1   \n",
       "\n",
       "  chrom_peak  start_peak  end_peak     peak_id_peak  log2FoldChange_peak  \\\n",
       "0       chr1      983992    984545  NA12878_peak_14             0.544771   \n",
       "1       chr1      983992    984545  NA12878_peak_14             0.544771   \n",
       "2       chr1      983992    984545  NA12878_peak_14             0.544771   \n",
       "3       chr1      983992    984545  NA12878_peak_14             0.544771   \n",
       "4       chr1      999622   1001164  NA12878_peak_15             0.773273   \n",
       "\n",
       "   FDR_peak start_hap1 end_hap1 start_hap2 end_hap2  \n",
       "0  0.801716     984025   984025     984016   984016  \n",
       "1  0.801716     984095   984095     984086   984086  \n",
       "2  0.801716     984131   984131     984122   984122  \n",
       "3  0.801716     984461   984461     984448   984448  \n",
       "4  0.496534     999841   999841     999812   999812  "
      ]
     },
     "execution_count": 28,
     "metadata": {},
     "output_type": "execute_result"
    }
   ],
   "source": [
    "# Read balanced peaks\n",
    "balanced_peaks = read_balanced_peaks(sample)\n",
    "\n",
    "# Overlap phased variants with balanced peaks\n",
    "phased_variants_overlap_balanced = get_variants_for_peaks(phased_variants, balanced_peaks)\n",
    "phased_variants_overlap_balanced = phased_variants_overlap_balanced.merge(variants_hap1, on = ['chrom', 'variant_id'])\n",
    "phased_variants_overlap_balanced = phased_variants_overlap_balanced.merge(variants_hap2, on = ['chrom', 'variant_id'])\n",
    "phased_variants_overlap_balanced.head()"
   ]
  },
  {
   "cell_type": "code",
   "execution_count": 29,
   "id": "e586fe81-24c9-4815-b420-ba8be7a2a146",
   "metadata": {},
   "outputs": [],
   "source": [
    "# Read genomes for each haplotype\n",
    "hap1_genome, hap2_genome = {}, {}\n",
    "for record in SeqIO.parse(f'/DATA/users/m.magnitov/hap_phen/personal_genomes/{sample}/genome/{sample}_hap1.fa', 'fasta'):\n",
    "    hap1_genome[record.id] = str(record.seq)\n",
    "for record in SeqIO.parse(f'/DATA/users/m.magnitov/hap_phen/personal_genomes/{sample}/genome/{sample}_hap2.fa', 'fasta'):\n",
    "    hap2_genome[record.id] = str(record.seq)"
   ]
  },
  {
   "cell_type": "code",
   "execution_count": 30,
   "id": "72f11d40-9244-41cb-b0f0-956674bb13ee",
   "metadata": {},
   "outputs": [],
   "source": [
    "# Read contribution scores for each haplotype\n",
    "contrib_scores_hap1 = pd.read_csv(f'/DATA/users/m.magnitov/hap_phen/chromBPNet/contrib/{sample}_hap1.profile_scores.bed', sep = '\\t', header = None)\n",
    "contrib_scores_hap2 = pd.read_csv(f'/DATA/users/m.magnitov/hap_phen/chromBPNet/contrib/{sample}_hap2.profile_scores.bed', sep = '\\t', header = None)\n",
    "contrib_scores_hap1.columns = ['chrom', 'start', 'end', 'score_hap1']\n",
    "contrib_scores_hap2.columns = ['chrom', 'start', 'end', 'score_hap2']"
   ]
  },
  {
   "cell_type": "markdown",
   "id": "73f578a0-0f60-4cb4-8f25-a5001408caaf",
   "metadata": {},
   "source": [
    "## Plot allele-specific contributions"
   ]
  },
  {
   "cell_type": "code",
   "execution_count": 12,
   "id": "6b36104b-36e8-4ba1-8b4b-5462671683ae",
   "metadata": {},
   "outputs": [],
   "source": [
    "variant_id = '13:75300388:T:C'\n",
    "gene_name = 'TBC1D4'\n",
    "\n",
    "#variant_id = '2:113235808:C:G'\n",
    "#gene_name = 'PAX8-AS1'\n",
    "\n",
    "#variant_id = '7:116498515:C:T'\n",
    "#gene_name = 'CAV2'\n",
    "\n",
    "#variant_id = '17:35244527:G:A'\n",
    "#gene_name = 'SLFN5'\n",
    "\n",
    "#variant_id = '17:8901000:T:G'\n",
    "#gene_name = 'PIK3R5'\n",
    "\n",
    "variant_margin = max(len(variant_id.split(':')[2]), len(variant_id.split(':')[3]))-1\n",
    "flank = 25 + variant_margin\n",
    "\n",
    "chrom_name, variant_pos_hap1, variant_pos_hap2 = get_variant_coordinates_in_haplotypes(phased_variants_overlap_asocr, variant_id)\n",
    "seq_hap1 = extract_sequence_for_region(hap1_genome, chrom_name, variant_pos_hap1, flank)\n",
    "seq_hap2 = extract_sequence_for_region(hap2_genome, chrom_name, variant_pos_hap2, flank)\n",
    "contrib_hap1 = extract_contribution_scores_for_region(contrib_scores_hap1, chrom_name, variant_pos_hap1, flank)\n",
    "contrib_hap2 = extract_contribution_scores_for_region(contrib_scores_hap2, chrom_name, variant_pos_hap2, flank)\n",
    "\n",
    "contrib = contrib_hap1.merge(contrib_hap2, on = ['chrom', 'relative_pos'], how = 'outer').sort_values('relative_pos').fillna(0)\n",
    "seq = pd.DataFrame({'relative_pos': np.arange(-flank, flank+1), 'seq_hap1': list(seq_hap1), 'seq_hap2': list(seq_hap2)})\n",
    "\n",
    "variant_contrib_data = contrib.merge(seq, on = 'relative_pos')\n",
    "variant_contrib_data = variant_contrib_data[['relative_pos', 'score_hap1', 'score_hap2', 'seq_hap1', 'seq_hap2']]\n",
    "variant_contrib_matrix_hap1, variant_contrib_matrix_hap2 = contribution_data_to_matrix(variant_contrib_data)\n",
    "\n",
    "cm_hap1 = construct_cs_matrix_to_plot(''.join(list(variant_contrib_data['seq_hap1'])), variant_contrib_data['score_hap1'])\n",
    "cm_hap2 = construct_cs_matrix_to_plot(''.join(list(variant_contrib_data['seq_hap2'])), variant_contrib_data['score_hap2'])\n",
    "cm_plot_limit_min = np.min(np.min(variant_contrib_data[['score_hap1', 'score_hap2']]))\n",
    "cm_plot_limit_max = np.max(np.max(variant_contrib_data[['score_hap1', 'score_hap2']]))\n",
    "cm_plot_margin = (abs(cm_plot_limit_max)+abs(cm_plot_limit_min))*0.1"
   ]
  },
  {
   "cell_type": "code",
   "execution_count": 15,
   "id": "595df981-26ab-467e-8a5c-05921b82ac83",
   "metadata": {},
   "outputs": [
    {
     "data": {
      "text/plain": [
       "(-0.0011651524000000002, 0.0047543084)"
      ]
     },
     "execution_count": 15,
     "metadata": {},
     "output_type": "execute_result"
    },
    {
     "data": {
      "image/png": "[encoded data removed]",
      "text/plain": [
       "<Figure size 720x144 with 1 Axes>"
      ]
     },
     "metadata": {
      "needs_background": "light"
     },
     "output_type": "display_data"
    },
    {
     "data": {
      "image/png": "[encoded data removed]",
      "text/plain": [
       "<Figure size 720x144 with 1 Axes>"
      ]
     },
     "metadata": {
      "needs_background": "light"
     },
     "output_type": "display_data"
    }
   ],
   "source": [
    "lm.Logo(cm_hap1, figsize = (10, 2))\n",
    "plt.title(variant_id + ' | chr' + variant_id.split(':')[0] + ':' + str(int(variant_id.split(':')[1])-25) + '-' + str(int(variant_id.split(':')[1])+25))\n",
    "plt.xticks([5, 15, 25, 35, 45], [])\n",
    "plt.xlim(-0.5, 50.5)\n",
    "plt.ylim((cm_plot_limit_min-cm_plot_margin, cm_plot_limit_max+cm_plot_margin))\n",
    "#plt.savefig(f'/DATA/users/m.magnitov/hap_phen/chromBPNet/example_tracks/gene_{gene_name}_example_{sample}_hap1.png', bbox_inches = 'tight')\n",
    "#plt.savefig(f'/DATA/users/m.magnitov/hap_phen/chromBPNet/example_tracks/gene_{gene_name}_example_{sample}_hap1.pdf', bbox_inches = 'tight')\n",
    "\n",
    "lm.Logo(cm_hap2, figsize = (10, 2))\n",
    "plt.title(variant_id + ' | chr' + variant_id.split(':')[0] + ':' + str(int(variant_id.split(':')[1])-25) + '-' + str(int(variant_id.split(':')[1])+25))\n",
    "plt.xticks([5, 15, 25, 35, 45], [])\n",
    "plt.xlim(-0.5, 50.5)\n",
    "plt.ylim((cm_plot_limit_min-cm_plot_margin, cm_plot_limit_max+cm_plot_margin))\n",
    "#plt.savefig(f'/DATA/users/m.magnitov/hap_phen/chromBPNet/example_tracks/gene_{gene_name}_example_{sample}_hap2.png', bbox_inches = 'tight')\n",
    "#plt.savefig(f'/DATA/users/m.magnitov/hap_phen/chromBPNet/example_tracks/gene_{gene_name}_example_{sample}_hap2.pdf', bbox_inches = 'tight')"
   ]
  },
  {
   "cell_type": "markdown",
   "id": "f12b4b47-aeaa-4d3b-9453-1ae50b98c73b",
   "metadata": {},
   "source": [
    "## Plot balanced contributions"
   ]
  },
  {
   "cell_type": "code",
   "execution_count": 31,
   "id": "aadb635e-35d7-4e70-b400-956585c83089",
   "metadata": {},
   "outputs": [],
   "source": [
    "#variant_id = '10:79347379:A:C'\n",
    "#gene_name = 'PPIF_promoter'\n",
    "# hap1 - C\n",
    "# hap2 - A\n",
    "\n",
    "variant_id = '1:243287831:G:A'\n",
    "gene_name = 'SDCCAG8_enhancer'\n",
    "# hap1 - A\n",
    "# hap2 - G\n",
    "\n",
    "variant_margin = max(len(variant_id.split(':')[2]), len(variant_id.split(':')[3]))-1\n",
    "flank = 25 + variant_margin\n",
    "\n",
    "chrom_name, variant_pos_hap1, variant_pos_hap2 = get_variant_coordinates_in_haplotypes(phased_variants_overlap_balanced, variant_id)\n",
    "seq_hap1 = extract_sequence_for_region(hap1_genome, chrom_name, variant_pos_hap1, flank)\n",
    "seq_hap2 = extract_sequence_for_region(hap2_genome, chrom_name, variant_pos_hap2, flank)\n",
    "contrib_hap1 = extract_contribution_scores_for_region(contrib_scores_hap1, chrom_name, variant_pos_hap1, flank)\n",
    "contrib_hap2 = extract_contribution_scores_for_region(contrib_scores_hap2, chrom_name, variant_pos_hap2, flank)\n",
    "\n",
    "contrib = contrib_hap1.merge(contrib_hap2, on = ['chrom', 'relative_pos'], how = 'outer').sort_values('relative_pos').fillna(0)\n",
    "seq = pd.DataFrame({'relative_pos': np.arange(-flank, flank+1), 'seq_hap1': list(seq_hap1), 'seq_hap2': list(seq_hap2)})\n",
    "\n",
    "variant_contrib_data = contrib.merge(seq, on = 'relative_pos')\n",
    "variant_contrib_data = variant_contrib_data[['relative_pos', 'score_hap1', 'score_hap2', 'seq_hap1', 'seq_hap2']]\n",
    "variant_contrib_matrix_hap1, variant_contrib_matrix_hap2 = contribution_data_to_matrix(variant_contrib_data)\n",
    "\n",
    "cm_hap1 = construct_cs_matrix_to_plot(''.join(list(variant_contrib_data['seq_hap1'])), variant_contrib_data['score_hap1'])\n",
    "cm_hap2 = construct_cs_matrix_to_plot(''.join(list(variant_contrib_data['seq_hap2'])), variant_contrib_data['score_hap2'])\n",
    "cm_plot_limit_min = np.min(np.min(variant_contrib_data[['score_hap1', 'score_hap2']]))\n",
    "cm_plot_limit_max = np.max(np.max(variant_contrib_data[['score_hap1', 'score_hap2']]))\n",
    "cm_plot_margin = (abs(cm_plot_limit_max)+abs(cm_plot_limit_min))*0.1"
   ]
  },
  {
   "cell_type": "code",
   "execution_count": 34,
   "id": "88b9e4be-b4e1-48f0-ab0f-943f4b029fb8",
   "metadata": {},
   "outputs": [
    {
     "data": {
      "text/plain": [
       "(-0.010389709, 0.014952119000000002)"
      ]
     },
     "execution_count": 34,
     "metadata": {},
     "output_type": "execute_result"
    },
    {
     "data": {
      "image/png": "[encoded data removed]",
      "text/plain": [
       "<Figure size 720x144 with 1 Axes>"
      ]
     },
     "metadata": {
      "needs_background": "light"
     },
     "output_type": "display_data"
    },
    {
     "data": {
      "image/png": "[encoded data removed]",
      "text/plain": [
       "<Figure size 720x144 with 1 Axes>"
      ]
     },
     "metadata": {
      "needs_background": "light"
     },
     "output_type": "display_data"
    }
   ],
   "source": [
    "lm.Logo(cm_hap1, figsize = (10, 2))\n",
    "plt.title(variant_id + ' | chr' + variant_id.split(':')[0] + ':' + str(int(variant_id.split(':')[1])-25) + '-' + str(int(variant_id.split(':')[1])+25))\n",
    "plt.xticks([5, 15, 25, 35, 45], [])\n",
    "plt.xlim(-0.5, 50.5)\n",
    "plt.ylim((cm_plot_limit_min-cm_plot_margin, cm_plot_limit_max+cm_plot_margin))\n",
    "#plt.savefig(f'/DATA/users/m.magnitov/hap_phen/chromBPNet/example_tracks/gene_{gene_name}_example_{sample}_hap1.png', bbox_inches = 'tight')\n",
    "#plt.savefig(f'/DATA/users/m.magnitov/hap_phen/chromBPNet/example_tracks/gene_{gene_name}_example_{sample}_hap1.pdf', bbox_inches = 'tight')\n",
    "\n",
    "lm.Logo(cm_hap2, figsize = (10, 2))\n",
    "plt.title(variant_id + ' | chr' + variant_id.split(':')[0] + ':' + str(int(variant_id.split(':')[1])-25) + '-' + str(int(variant_id.split(':')[1])+25))\n",
    "plt.xticks([5, 15, 25, 35, 45], [])\n",
    "plt.xlim(-0.5, 50.5)\n",
    "plt.ylim((cm_plot_limit_min-cm_plot_margin, cm_plot_limit_max+cm_plot_margin))\n",
    "#plt.savefig(f'/DATA/users/m.magnitov/hap_phen/chromBPNet/example_tracks/gene_{gene_name}_example_{sample}_hap2.png', bbox_inches = 'tight')\n",
    "#plt.savefig(f'/DATA/users/m.magnitov/hap_phen/chromBPNet/example_tracks/gene_{gene_name}_example_{sample}_hap2.pdf', bbox_inches = 'tight')"
   ]
  },
  {
   "cell_type": "markdown",
   "id": "0357cc4c-ce7e-4d06-b3d6-64031193fa69",
   "metadata": {},
   "source": [
    "# Plot contributions for region"
   ]
  },
  {
   "cell_type": "code",
   "execution_count": 4,
   "id": "a2bb111b-429b-4f0b-bb25-4e135f4bf13d",
   "metadata": {},
   "outputs": [],
   "source": [
    "hg38_genome = {}\n",
    "for record in SeqIO.parse('/DATA/users/m.magnitov/genomes/GCA_000001405.15_GRCh38_no_alt_analysis_set.fa', 'fasta'):\n",
    "    hg38_genome[record.id] = str(record.seq)"
   ]
  },
  {
   "cell_type": "code",
   "execution_count": 5,
   "id": "94cdb9be-6882-4424-b324-b94d151ac2e3",
   "metadata": {},
   "outputs": [],
   "source": [
    "def extract_sequence_for_region(genome, chrom, start, end):\n",
    "    return(str(genome[chrom][start:end]))\n",
    "\n",
    "def extract_contribution_scores_for_region(sample, haplotype, chrom, start, end):\n",
    "    if haplotype == 'hg38':\n",
    "        contrib_scores = pd.read_csv(f'/DATA/users/m.magnitov/hap_phen/chromBPNet/contrib/{sample}_{haplotype}.profile_scores.bed', sep = '\\t', header = None)\n",
    "    else:\n",
    "        contrib_scores = pd.read_csv(f'/DATA/users/m.magnitov/hap_phen/chromBPNet/contrib/{sample}_{haplotype}.profile_scores.hg38.bed', sep = '\\t', header = None)\n",
    "    contrib_scores = contrib_scores[(contrib_scores[0] == chrom) & (contrib_scores[1] >= start) & (contrib_scores[1] < end)]\n",
    "    return(contrib_scores[3].values)\n",
    "\n",
    "def construct_matrix(seq_contrib, score_contrib):\n",
    "    contrib_score_data = pd.DataFrame([list(seq_contrib), score_contrib]).transpose().fillna(0)\n",
    "    contrib_score_data.columns = ['character', 'value']\n",
    "    contrib_score_data = lm.saliency_to_matrix(seq = contrib_score_data['character'], values = contrib_score_data['value'])\n",
    "    return(contrib_score_data)"
   ]
  },
  {
   "cell_type": "code",
   "execution_count": 22,
   "id": "be329062-c079-4ae3-9889-931f1867ce0f",
   "metadata": {},
   "outputs": [],
   "source": [
    "sample = 'HG03464'\n",
    "\n",
    "#chrom = 'chr20'\n",
    "#start = 46118100\n",
    "#end = 46118350\n",
    "\n",
    "chrom = 'chr8'\n",
    "start = 38977390\n",
    "end = 38977640\n",
    "\n",
    "#chrom = 'chr10'\n",
    "#start = 79347320\n",
    "#end = 79347520\n",
    "#seq_hap1 = nucleotide_sequence[:58] + 'C' + nucleotide_sequence[59:]\n",
    "#seq_hap2 = nucleotide_sequence\n",
    "\n",
    "#chrom = 'chr1'\n",
    "#start = 243287770\n",
    "#end = 243287970\n",
    "#seq_hap1 = nucleotide_sequence\n",
    "#seq_hap2 = nucleotide_sequence[:50] + 'A' + nucleotide_sequence[51:]"
   ]
  },
  {
   "cell_type": "code",
   "execution_count": 23,
   "id": "c424204d-0c16-47d8-9e7e-e64a78ed8405",
   "metadata": {},
   "outputs": [
    {
     "data": {
      "text/plain": [
       "'TCCTACACATAGTACTGGTAGTCTGCACATCACATATATTGACATGGTGTCTGAGAGCTTTTTAGAAGTTCAGAGTCTCAGCCTTTACCCAGATAGATGTGCTGACTCAGAATCTGCATTAACATAACATCCCTAGGTGATTTGCATGCACATTACAGTGTGAGAAGTGTCACCCTGGGTGATCTCCTTTCTGTTTGTGGCTTATTCACTTTGACTGTTAAGCTTTGAGCTGGAATGGTGCTGTGTAAAT'"
      ]
     },
     "execution_count": 23,
     "metadata": {},
     "output_type": "execute_result"
    }
   ],
   "source": [
    "nucleotide_sequence = extract_sequence_for_region(hg38_genome, chrom, start, end)\n",
    "nucleotide_sequence"
   ]
  },
  {
   "cell_type": "code",
   "execution_count": 24,
   "id": "ec6a71a5-83a6-433a-b884-1fc48204f360",
   "metadata": {},
   "outputs": [],
   "source": [
    "contribution_scores_hg38 = extract_contribution_scores_for_region(sample, 'hg38', chrom, start, end)\n",
    "contribution_scores_hg38 = construct_matrix(nucleotide_sequence, contribution_scores_hg38)"
   ]
  },
  {
   "cell_type": "code",
   "execution_count": 25,
   "id": "282fca51-8368-4906-8177-6342246a1a38",
   "metadata": {},
   "outputs": [
    {
     "data": {
      "image/png": "[encoded data removed]",
      "text/plain": [
       "<Figure size 1440x144 with 1 Axes>"
      ]
     },
     "metadata": {
      "needs_background": "light"
     },
     "output_type": "display_data"
    }
   ],
   "source": [
    "lm.Logo(contribution_scores_hg38, figsize = (20, 2))\n",
    "plt.ylim((1.1*np.min(np.min(contribution_scores_hg38)), 1.1*np.max(np.max(contribution_scores_hg38))))\n",
    "plt.savefig(f'./example_tracks/predictions_chrombpnet_HTRA4_enhancer_{sample}_hg38.pdf', bbox_inches = 'tight')"
   ]
  },
  {
   "cell_type": "code",
   "execution_count": null,
   "id": "4fcc4193-2f51-4cbc-b9f7-278605e5c279",
   "metadata": {},
   "outputs": [],
   "source": []
  },
  {
   "cell_type": "code",
   "execution_count": 107,
   "id": "36ee5ff5-e66a-483e-a29e-0b6d02fcb3bd",
   "metadata": {},
   "outputs": [],
   "source": [
    "seq_hap1 = nucleotide_sequence[:60] + 'A' + nucleotide_sequence[61:]\n",
    "seq_hap2 = nucleotide_sequence"
   ]
  },
  {
   "cell_type": "code",
   "execution_count": 108,
   "id": "6b9a574b-5fab-429a-bc44-b9ef19067fbb",
   "metadata": {},
   "outputs": [],
   "source": [
    "contribution_scores_hap1 = extract_contribution_scores_for_region(sample, 'hap1', chrom, start, end)\n",
    "contribution_matrix_hap1 = construct_matrix(seq_hap1, contribution_scores_hap1)\n",
    "\n",
    "contribution_scores_hap2 = extract_contribution_scores_for_region(sample, 'hap2', chrom, start, end)\n",
    "contribution_matrix_hap2 = construct_matrix(seq_hap2, contribution_scores_hap2)"
   ]
  },
  {
   "cell_type": "code",
   "execution_count": 109,
   "id": "dadc8ccb-9649-4b5e-8edc-88cee268d96e",
   "metadata": {},
   "outputs": [
    {
     "data": {
      "image/png": "[encoded data removed]",
      "text/plain": [
       "<Figure size 1440x144 with 1 Axes>"
      ]
     },
     "metadata": {
      "needs_background": "light"
     },
     "output_type": "display_data"
    }
   ],
   "source": [
    "lm.Logo(contribution_matrix_hap1, figsize = (20, 2))\n",
    "plt.ylim((1.1*np.min(np.min(pd.concat([contribution_matrix_hap1, contribution_matrix_hap2]))), \n",
    "          1.1*np.max(np.max(pd.concat([contribution_matrix_hap1, contribution_matrix_hap2])))))\n",
    "plt.savefig(f'./example_tracks/balanced_region_SDCCAG8_enhancer_{sample}_hap1.pdf', bbox_inches = 'tight')"
   ]
  },
  {
   "cell_type": "code",
   "execution_count": 110,
   "id": "0f31fa36-6a79-4cd9-9750-ed8c018b36e8",
   "metadata": {},
   "outputs": [
    {
     "data": {
      "image/png": "[encoded data removed]",
      "text/plain": [
       "<Figure size 1440x144 with 1 Axes>"
      ]
     },
     "metadata": {
      "needs_background": "light"
     },
     "output_type": "display_data"
    }
   ],
   "source": [
    "lm.Logo(contribution_matrix_hap2, figsize = (20, 2))\n",
    "plt.ylim((1.1*np.min(np.min(pd.concat([contribution_matrix_hap1, contribution_matrix_hap2]))), \n",
    "          1.1*np.max(np.max(pd.concat([contribution_matrix_hap1, contribution_matrix_hap2])))))\n",
    "plt.savefig(f'./example_tracks/balanced_region_SDCCAG8_enhancer_{sample}_hap2.pdf', bbox_inches = 'tight')"
   ]
  },
  {
   "cell_type": "code",
   "execution_count": null,
   "id": "26255cd0-c4fa-431c-aecc-1e7bf8d0e4a4",
   "metadata": {},
   "outputs": [],
   "source": []
  }
 ],
 "metadata": {
  "kernelspec": {
   "display_name": "Python 3 (ipykernel)",
   "language": "python",
   "name": "python3"
  },
  "language_info": {
   "codemirror_mode": {
    "name": "ipython",
    "version": 3
   },
   "file_extension": ".py",
   "mimetype": "text/x-python",
   "name": "python",
   "nbconvert_exporter": "python",
   "pygments_lexer": "ipython3",
   "version": "3.9.12"
  }
 },
 "nbformat": 4,
 "nbformat_minor": 5
}
