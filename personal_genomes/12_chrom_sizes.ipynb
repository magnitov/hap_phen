{
 "cells": [
  {
   "cell_type": "code",
   "execution_count": 4,
   "id": "1d5e8f78-d3b0-4629-92ca-50ba822bd142",
   "metadata": {},
   "outputs": [],
   "source": [
    "import pandas as pd\n",
    "from Bio import SeqIO"
   ]
  },
  {
   "cell_type": "code",
   "execution_count": 7,
   "id": "784f05bc-5e2c-4156-baa0-cc97603168ca",
   "metadata": {},
   "outputs": [],
   "source": [
    "def get_chrom_sizes(sample, haplotype):\n",
    "    chroms, sizes = [], []\n",
    "    for record in SeqIO.parse(f\"/DATA/users/m.magnitov/hap_phen/personal_genomes/{sample}/genome/{sample}_{haplotype}.fa\", \"fasta\"):\n",
    "        chroms.append(record.id)\n",
    "        sizes.append(len(str(record.seq)))\n",
    "    return(pd.DataFrame({'chroms': chroms, 'sizes': sizes}))"
   ]
  },
  {
   "cell_type": "code",
   "execution_count": 11,
   "id": "912756c1-4385-42f3-809c-8f49c196f4f9",
   "metadata": {},
   "outputs": [],
   "source": [
    "for sample in ['NA12878', 'NA18983', 'HG01241', 'HG02601', 'HG03464']:\n",
    "    for haplotype in ['hap1', 'hap2']:\n",
    "        chrom_sizes = get_chrom_sizes(sample, haplotype)\n",
    "        chrom_sizes.to_csv(f'/DATA/users/m.magnitov/hap_phen/personal_genomes/{sample}/genome/{sample}_{haplotype}.chrom.sizes',\n",
    "                           sep = '\\t', header = 0, index = 0)"
   ]
  }
 ],
 "metadata": {
  "kernelspec": {
   "display_name": "Python 3 (ipykernel)",
   "language": "python",
   "name": "python3"
  },
  "language_info": {
   "codemirror_mode": {
    "name": "ipython",
    "version": 3
   },
   "file_extension": ".py",
   "mimetype": "text/x-python",
   "name": "python",
   "nbconvert_exporter": "python",
   "pygments_lexer": "ipython3",
   "version": "3.9.12"
  }
 },
 "nbformat": 4,
 "nbformat_minor": 5
}
