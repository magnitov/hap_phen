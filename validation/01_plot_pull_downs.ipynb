{
 "cells": [
  {
   "cell_type": "code",
   "execution_count": 2,
   "id": "6f4712a6-5135-40e5-8ab3-2b6ad77af9d3",
   "metadata": {},
   "outputs": [],
   "source": [
    "import pandas as pd\n",
    "import numpy as np\n",
    "import matplotlib.pyplot as plt"
   ]
  },
  {
   "cell_type": "code",
   "execution_count": 3,
   "id": "d1931472-19b7-4eda-8520-983af23b1948",
   "metadata": {},
   "outputs": [],
   "source": [
    "data = pd.read_csv('pulldown_HG03464_PIK3R5_proteinGroups.tsv', sep = '\\t')\n",
    "data = data[data['Potential contaminant'] != '+']\n",
    "data = data.dropna(subset = ['Gene names'])"
   ]
  },
  {
   "cell_type": "code",
   "execution_count": 4,
   "id": "5adf3957-2e1a-4f12-a42c-825017b4602f",
   "metadata": {},
   "outputs": [
    {
     "data": {
      "text/plain": [
       "Index(['Protein IDs', 'Majority protein IDs', 'Peptide counts (all)',\n",
       "       'Peptide counts (razor+unique)', 'Peptide counts (unique)',\n",
       "       'Protein names', 'Gene names', 'Fasta headers', 'Number of proteins',\n",
       "       'Peptides', 'Razor + unique peptides', 'Unique peptides', 'Peptides F',\n",
       "       'Peptides R', 'Razor + unique peptides F', 'Razor + unique peptides R',\n",
       "       'Unique peptides F', 'Unique peptides R', 'Sequence coverage [%]',\n",
       "       'Unique + razor sequence coverage [%]', 'Unique sequence coverage [%]',\n",
       "       'Mol. weight [kDa]', 'Sequence length', 'Sequence lengths', 'Q-value',\n",
       "       'Score', 'Identification type F', 'Identification type R',\n",
       "       'Ratio H/L F', 'Ratio H/L R', 'Ratio H/L normalized F',\n",
       "       'Ratio H/L normalized R', 'Ratio H/L variability [%] F',\n",
       "       'Ratio H/L variability [%] R', 'Ratio H/L count F', 'Ratio H/L count R',\n",
       "       'Ratio H/L iso-count F', 'Ratio H/L iso-count R', 'Ratio H/L type F',\n",
       "       'Ratio H/L type R', 'Sequence coverage F [%]',\n",
       "       'Sequence coverage R [%]', 'Intensity', 'Intensity L', 'Intensity H',\n",
       "       'Intensity F', 'Intensity R', 'Intensity L F', 'Intensity H F',\n",
       "       'Intensity L R', 'Intensity H R', 'Species', 'Peptide sequences',\n",
       "       'Only identified by site', 'Reverse', 'Potential contaminant', 'id',\n",
       "       'Peptide IDs', 'Peptide is razor', 'Mod. peptide IDs', 'Evidence IDs',\n",
       "       'MS/MS IDs', 'Best MS/MS', 'Oxidation (M) site IDs',\n",
       "       'Oxidation (M) site positions', 'Taxonomy IDs', 'Taxonomy names'],\n",
       "      dtype='object')"
      ]
     },
     "execution_count": 4,
     "metadata": {},
     "output_type": "execute_result"
    }
   ],
   "source": [
    "data.columns"
   ]
  },
  {
   "cell_type": "code",
   "execution_count": 5,
   "id": "1bdf8357-57bc-4d08-8f32-0fbfd3877e94",
   "metadata": {},
   "outputs": [
    {
     "name": "stdout",
     "output_type": "stream",
     "text": [
      "1.0250386485150458 -0.9748077202373764 0.6640444285594556 -0.8367203679626898\n"
     ]
    }
   ],
   "source": [
    "iqr_x = np.nanpercentile(np.log2(data['Ratio H/L normalized F']), 75) - np.nanpercentile(np.log2(data['Ratio H/L normalized F']), 25)\n",
    "iqr_y = np.nanpercentile(-np.log2(data['Ratio H/L normalized R']), 75) - np.nanpercentile(-np.log2(data['Ratio H/L normalized R']), 25)\n",
    "cutoff_x_pos = np.nanpercentile(np.log2(data['Ratio H/L normalized F']), 75) + 1.5*iqr_x\n",
    "cutoff_x_neg = np.nanpercentile(np.log2(data['Ratio H/L normalized F']), 25) - 1.5*iqr_x\n",
    "cutoff_y_pos = np.nanpercentile(-np.log2(data['Ratio H/L normalized R']), 75) + 1.5*iqr_y\n",
    "cutoff_y_neg = np.nanpercentile(-np.log2(data['Ratio H/L normalized R']), 25) - 1.5*iqr_y\n",
    "\n",
    "print(cutoff_x_pos, cutoff_x_neg, cutoff_y_pos, cutoff_y_neg)\n",
    "hits_pos = data[(np.log2(data['Ratio H/L normalized F']) > cutoff_x_pos) & (-np.log2(data['Ratio H/L normalized R']) > cutoff_y_pos)]\n",
    "hits_neg = data[(np.log2(data['Ratio H/L normalized F']) < cutoff_x_neg) & (-np.log2(data['Ratio H/L normalized R']) < cutoff_y_neg)]"
   ]
  },
  {
   "cell_type": "code",
   "execution_count": 6,
   "id": "3c7b628a-78ed-4996-8276-758fdc23aefe",
   "metadata": {},
   "outputs": [
    {
     "name": "stdout",
     "output_type": "stream",
     "text": [
      "['RUNX3' 'CBFB' 'KPRP' 'ZFP91' 'IKZF2' 'IKZF3' 'ZNF281']\n",
      "['POU2F2' 'RPA2' 'RPA1' 'HDAC1' 'E4F1' 'MIDEAS' 'HDAC2' 'INO80B' 'DNTTIP1']\n"
     ]
    }
   ],
   "source": [
    "print(hits_pos['Gene names'].values), \n",
    "print(hits_neg['Gene names'].values)"
   ]
  },
  {
   "cell_type": "code",
   "execution_count": 9,
   "id": "deedaf0b-98f8-43f6-8732-d07dfddf3e0b",
   "metadata": {},
   "outputs": [
    {
     "data": {
      "image/png": "[encoded data removed]",
      "text/plain": [
       "<Figure size 360x352.8 with 1 Axes>"
      ]
     },
     "metadata": {
      "needs_background": "light"
     },
     "output_type": "display_data"
    }
   ],
   "source": [
    "plt.figure(figsize = (5, 4.9))\n",
    "#plt.title('rs545467951 T>G', fontsize = 16)\n",
    "plt.scatter(np.log2(data['Ratio H/L normalized F']), \n",
    "            -np.log2(data['Ratio H/L normalized R']), color = '#CCCCCC', edgecolor = '#CCCCCC')\n",
    "plt.scatter(np.log2(hits_pos[::-1]['Ratio H/L normalized F']), \n",
    "            -np.log2(hits_pos[::-1]['Ratio H/L normalized R']), color = '#FA8071', edgecolor = 'k', s = 100)\n",
    "plt.scatter(np.log2(hits_neg[::-1]['Ratio H/L normalized F']), \n",
    "            -np.log2(hits_neg[::-1]['Ratio H/L normalized R']), color = '#80B1D3', edgecolor = 'k', s = 100)\n",
    "plt.text(x = -2.3, y = -2, s = 'OCT2', ha = 'right', fontsize = 12)\n",
    "plt.xlim((-3.5, 3.5))\n",
    "plt.ylim((-3.5, 3.5))\n",
    "plt.axvline(0, lw = 1, ls = '--', color = 'k')\n",
    "plt.axhline(0, lw = 1, ls = '--', color = 'k')\n",
    "plt.xlabel('Forward H/L, log2', fontsize = 14)\n",
    "plt.ylabel('Reverse H/L, log2', fontsize = 14)\n",
    "plt.text(s = 'G allele', x = 3.4, y = 3.4, va = 'top', ha = 'right', fontsize = 14, color = '#FA8071')\n",
    "plt.text(s = 'T allele', x = -3.4, y = -3.4, va = 'bottom', ha = 'left', fontsize = 14, color = '#80B1D3')\n",
    "plt.tight_layout()\n",
    "plt.savefig('/DATA/users/m.magnitov/hap_phen/figures/validation_pull_down_results_PIK3R5.pdf', bbox_inches = 'tight')\n",
    "plt.show()"
   ]
  },
  {
   "cell_type": "code",
   "execution_count": null,
   "id": "9c1457d5-6b21-4c91-817c-9bf282aff4f8",
   "metadata": {},
   "outputs": [],
   "source": []
  }
 ],
 "metadata": {
  "kernelspec": {
   "display_name": "Python 3 (ipykernel)",
   "language": "python",
   "name": "python3"
  },
  "language_info": {
   "codemirror_mode": {
    "name": "ipython",
    "version": 3
   },
   "file_extension": ".py",
   "mimetype": "text/x-python",
   "name": "python",
   "nbconvert_exporter": "python",
   "pygments_lexer": "ipython3",
   "version": "3.9.12"
  }
 },
 "nbformat": 4,
 "nbformat_minor": 5
}
